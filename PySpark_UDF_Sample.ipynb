{
 "cells": [
  {
   "cell_type": "code",
   "execution_count": 1,
   "id": "94bd48ad",
   "metadata": {},
   "outputs": [
    {
     "name": "stderr",
     "output_type": "stream",
     "text": [
      "WARNING: Using incubator modules: jdk.incubator.vector\n",
      "Using Spark's default log4j profile: org/apache/spark/log4j2-defaults.properties\n",
      "Setting default log level to \"WARN\".\n",
      "To adjust logging level use sc.setLogLevel(newLevel). For SparkR, use setLogLevel(newLevel).\n",
      "25/05/25 07:19:37 WARN NativeCodeLoader: Unable to load native-hadoop library for your platform... using builtin-java classes where applicable\n",
      "25/05/25 07:19:37 WARN SparkConf: Note that spark.local.dir will be overridden by the value set by the cluster manager (via SPARK_LOCAL_DIRS in standalone/kubernetes and LOCAL_DIRS in YARN).\n"
     ]
    },
    {
     "name": "stdout",
     "output_type": "stream",
     "text": [
      "Spark started: 4.0.0\n"
     ]
    }
   ],
   "source": [
    "# Step 1: Setup Spark session with safe temp directory\n",
    "import os\n",
    "from pyspark.sql import SparkSession\n",
    "\n",
    "# Set a writable local directory to avoid read-only errors\n",
    "os.environ[\"SPARK_LOCAL_DIRS\"] = \"/tmp/spark-temp\"\n",
    "os.makedirs(\"/tmp/spark-temp\", exist_ok=True)\n",
    "\n",
    "# Create Spark session\n",
    "spark = SparkSession.builder \\\n",
    "    .appName(\"UDF Example\") \\\n",
    "    .master(\"local[*]\") \\\n",
    "    .config(\"spark.local.dir\", \"/tmp/spark-temp\") \\\n",
    "    .config(\"spark.sql.warehouse.dir\", \"/tmp/spark-warehouse\") \\\n",
    "    .getOrCreate()\n",
    "\n",
    "print(\"Spark started:\", spark.version)\n"
   ]
  },
  {
   "cell_type": "code",
   "execution_count": 2,
   "id": "22832f94",
   "metadata": {},
   "outputs": [
    {
     "name": "stderr",
     "output_type": "stream",
     "text": [
      "                                                                                \r"
     ]
    },
    {
     "name": "stdout",
     "output_type": "stream",
     "text": [
      "+---+\n",
      "| id|\n",
      "+---+\n",
      "|  1|\n",
      "|  2|\n",
      "|  3|\n",
      "+---+\n",
      "\n"
     ]
    }
   ],
   "source": [
    "# Step 2: Create sample DataFrame\n",
    "data = [(1,), (2,), (3,)]\n",
    "df = spark.createDataFrame(data, [\"id\"])\n",
    "df.show()\n"
   ]
  },
  {
   "cell_type": "code",
   "execution_count": 3,
   "id": "14647030",
   "metadata": {},
   "outputs": [
    {
     "name": "stdout",
     "output_type": "stream",
     "text": [
      "+---+----------+\n",
      "| id|id_squared|\n",
      "+---+----------+\n",
      "|  1|         1|\n",
      "|  2|         4|\n",
      "|  3|         9|\n",
      "+---+----------+\n",
      "\n"
     ]
    }
   ],
   "source": [
    "# Step 3: Define and apply a UDF\n",
    "from pyspark.sql.functions import udf\n",
    "from pyspark.sql.types import IntegerType\n",
    "\n",
    "def square(x):\n",
    "    return x * x\n",
    "\n",
    "squared_udf = udf(square, IntegerType())\n",
    "\n",
    "# Apply UDF to add a new column\n",
    "df_result = df.withColumn(\"id_squared\", squared_udf(df[\"id\"]))\n",
    "df_result.show()"
   ]
  },
  {
   "cell_type": "code",
   "execution_count": 4,
   "id": "7859212c",
   "metadata": {},
   "outputs": [],
   "source": [
    "# Step 4: Stop Spark session\n",
    "spark.stop()"
   ]
  }
 ],
 "metadata": {
  "kernelspec": {
   "display_name": "Python 3",
   "language": "python",
   "name": "python3"
  },
  "language_info": {
   "codemirror_mode": {
    "name": "ipython",
    "version": 3
   },
   "file_extension": ".py",
   "mimetype": "text/x-python",
   "name": "python",
   "nbconvert_exporter": "python",
   "pygments_lexer": "ipython3",
   "version": "3.11.1"
  }
 },
 "nbformat": 4,
 "nbformat_minor": 5
}
